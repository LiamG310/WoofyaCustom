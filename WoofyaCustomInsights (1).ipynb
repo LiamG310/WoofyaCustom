{
 "cells": [
  {
   "cell_type": "markdown",
   "id": "905f48e7",
   "metadata": {},
   "source": [
    "# File for generating GPT insights \n",
    "Note:\n",
    "- Run this file before WoofyaCustomDev to generate correct input file for WoofyaCustomDev.\n",
    "- This file features the OpenAI package and requires an OpenAI API Key.\n",
    "- This file filters the dataset to only those with 500+ characters of review for robust analysis.\n",
    "- Gain new insights using the format below labelled 'GPT Insights'"
   ]
  },
  {
   "cell_type": "code",
   "execution_count": 1,
   "id": "8baec41b",
   "metadata": {},
   "outputs": [],
   "source": [
    "import openai\n",
    "import pandas as pd\n",
    "from openai import OpenAI"
   ]
  },
  {
   "cell_type": "code",
   "execution_count": 2,
   "id": "e69ad952",
   "metadata": {},
   "outputs": [],
   "source": [
    "# Load the CSV file\n",
    "file_path = 'woofya_db_2.csv'\n",
    "data = pd.read_csv(file_path)"
   ]
  },
  {
   "cell_type": "code",
   "execution_count": 3,
   "id": "d0560512",
   "metadata": {},
   "outputs": [],
   "source": [
    "# In order have sufficient data for analysis, we have set a lower bound of 500 characters worth of review.\n",
    "woofya_db_r500 = data[data['review_text'].apply(len) > 499]\n",
    "woofya_db_r500.to_csv('woofya_db_r500.csv', index=False)"
   ]
  },
  {
   "cell_type": "markdown",
   "id": "ec849253",
   "metadata": {},
   "source": [
    "## GPT Insights"
   ]
  },
  {
   "cell_type": "code",
   "execution_count": 4,
   "id": "ff5aae07",
   "metadata": {},
   "outputs": [
    {
     "name": "stderr",
     "output_type": "stream",
     "text": [
      "C:\\Users\\liamg\\AppData\\Local\\Temp\\ipykernel_2552\\1219653042.py:30: SettingWithCopyWarning: \n",
      "A value is trying to be set on a copy of a slice from a DataFrame.\n",
      "Try using .loc[row_indexer,col_indexer] = value instead\n",
      "\n",
      "See the caveats in the documentation: https://pandas.pydata.org/pandas-docs/stable/user_guide/indexing.html#returning-a-view-versus-a-copy\n",
      "  woofya_db_r500['description'] = woofya_db_r500.apply(generate_description, axis=1)\n"
     ]
    }
   ],
   "source": [
    "client = OpenAI(api_key='replace_with_your_api_key')\n",
    "# Load the CSV file\n",
    "file_path = 'woofya_db_r500.csv'\n",
    "feed = pd.read_csv(file_path)\n",
    "\n",
    "# Function to generate a description for each row\n",
    "def generate_description(row):\n",
    "    name = row['name']\n",
    "    vicinity = row['vicinity']\n",
    "    review = row['review_text']\n",
    "    rating = row['rating']\n",
    "    type = row['type']\n",
    "    editorial = row['editorial_summary.overview']\n",
    "    prompt = f\"List 5 description tags of this location based on the '{name}' and these reviews{review} and these editorials{editorial}. It MUST be in the format ['1', '2', '3', '4', '5'] with no other text included.\"\n",
    "\n",
    "    # Call OpenAI API to generate description using the new method\n",
    "    completion = client.chat.completions.create(\n",
    "        model=\"gpt-4o-mini\",\n",
    "        messages=[\n",
    "            {\"role\": \"system\", \"content\": \"You are a helpful assistant that creates location descriptions.\"},\n",
    "            {\"role\": \"user\", \"content\": prompt}\n",
    "        ],\n",
    "        max_tokens=150\n",
    "    )\n",
    "    \n",
    "    # Extract and return the response content\n",
    "    return(completion.choices[0].message.content)\n",
    "\n",
    "# Apply the function to each row and create a new column 'description'\n",
    "woofya_db_r500['description'] = woofya_db_r500.apply(generate_description, axis=1)\n",
    "\n",
    "# Save the DataFrame with descriptions to a new CSV file\n",
    "woofya_db_r500.to_csv('recommender_input.csv', index=False)\n"
   ]
  },
  {
   "cell_type": "code",
   "execution_count": 5,
   "id": "ce53802c",
   "metadata": {},
   "outputs": [
    {
     "name": "stderr",
     "output_type": "stream",
     "text": [
      "C:\\Users\\liamg\\AppData\\Local\\Temp\\ipykernel_2552\\4023379670.py:21: SettingWithCopyWarning: \n",
      "A value is trying to be set on a copy of a slice from a DataFrame.\n",
      "Try using .loc[row_indexer,col_indexer] = value instead\n",
      "\n",
      "See the caveats in the documentation: https://pandas.pydata.org/pandas-docs/stable/user_guide/indexing.html#returning-a-view-versus-a-copy\n",
      "  woofya_db_r500['suburb'] = woofya_db_r500.apply(generate_suburb, axis=1)\n"
     ]
    }
   ],
   "source": [
    "# Function to generate a suburb for each row\n",
    "def generate_suburb(row):\n",
    "    name = row['name']\n",
    "    address = row['formatted_address']\n",
    "    prompt = f\"State the name of the suburb for each entry using the name{name} and formatted address{address}. State ONLY the suburb name itself.\"\n",
    "\n",
    "    # Call OpenAI API to generate description using the new method\n",
    "    completion = client.chat.completions.create(\n",
    "        model=\"gpt-4o-mini\",\n",
    "        messages=[\n",
    "            {\"role\": \"system\", \"content\": \"You are a helpful assistant that states the suburb of a location.\"},\n",
    "            {\"role\": \"user\", \"content\": prompt}\n",
    "        ],\n",
    "        max_tokens=150\n",
    "    )\n",
    "    \n",
    "    # Extract and return the response content\n",
    "    return(completion.choices[0].message.content)\n",
    "\n",
    "# Apply the function to each row and create a new column 'description'\n",
    "woofya_db_r500['suburb'] = woofya_db_r500.apply(generate_suburb, axis=1)\n",
    "\n",
    "# Save the DataFrame with descriptions to a new CSV file\n",
    "woofya_db_r500.to_csv('recommender_input.csv', index=False)\n"
   ]
  },
  {
   "cell_type": "code",
   "execution_count": 6,
   "id": "775c03cf",
   "metadata": {
    "scrolled": true
   },
   "outputs": [
    {
     "name": "stderr",
     "output_type": "stream",
     "text": [
      "C:\\Users\\liamg\\AppData\\Local\\Temp\\ipykernel_2552\\970471050.py:24: SettingWithCopyWarning: \n",
      "A value is trying to be set on a copy of a slice from a DataFrame.\n",
      "Try using .loc[row_indexer,col_indexer] = value instead\n",
      "\n",
      "See the caveats in the documentation: https://pandas.pydata.org/pandas-docs/stable/user_guide/indexing.html#returning-a-view-versus-a-copy\n",
      "  woofya_db_r500['off_leash'] = woofya_db_r500.apply(generate_ooleash, axis=1)\n"
     ]
    }
   ],
   "source": [
    "# Function to generate an off/on leash category for each row\n",
    "def generate_ooleash(row):\n",
    "    name = row['name']\n",
    "    review = row['review_text']\n",
    "    descrip = row['description']\n",
    "    type = row['type']\n",
    "    editorial = row['editorial_summary.overview']\n",
    "    prompt = f\"Return '1' if you can confirm that the location {name} allows dogs to be off-leash based on the name {name}, description {descrip}, these reviews {review}, these editorials {editorial} and location type {type}. Answer only using '1' for yes or '0' for no.\"\n",
    "\n",
    "    # Call OpenAI API to generate description using the new method\n",
    "    completion = client.chat.completions.create(\n",
    "        model=\"gpt-4o-mini\",\n",
    "        messages=[\n",
    "            {\"role\": \"system\", \"content\": \"You are a helpful assistant that confirms location features.\"},\n",
    "            {\"role\": \"user\", \"content\": prompt}\n",
    "        ],\n",
    "        max_tokens=150\n",
    "    )\n",
    "    \n",
    "    # Extract and return the response content\n",
    "    return(completion.choices[0].message.content)\n",
    "\n",
    "# Apply the function to each row and create a new column 'description'\n",
    "woofya_db_r500['off_leash'] = woofya_db_r500.apply(generate_ooleash, axis=1)\n",
    "\n",
    "# Save the DataFrame with descriptions to a new CSV file\n",
    "woofya_db_r500.to_csv('recommender_input.csv', index=False)\n"
   ]
  },
  {
   "cell_type": "code",
   "execution_count": 7,
   "id": "96a3a344",
   "metadata": {},
   "outputs": [
    {
     "name": "stderr",
     "output_type": "stream",
     "text": [
      "C:\\Users\\liamg\\AppData\\Local\\Temp\\ipykernel_2552\\3889940699.py:24: SettingWithCopyWarning: \n",
      "A value is trying to be set on a copy of a slice from a DataFrame.\n",
      "Try using .loc[row_indexer,col_indexer] = value instead\n",
      "\n",
      "See the caveats in the documentation: https://pandas.pydata.org/pandas-docs/stable/user_guide/indexing.html#returning-a-view-versus-a-copy\n",
      "  woofya_db_r500['dog_water'] = woofya_db_r500.apply(generate_water, axis=1)\n"
     ]
    }
   ],
   "source": [
    "# Function to generate an assessment of the availability of water for dogs\n",
    "def generate_water(row):\n",
    "    name = row['name']\n",
    "    review = row['review_text']\n",
    "    descrip = row['description']\n",
    "    type = row['type']\n",
    "    editorial = row['editorial_summary.overview']\n",
    "    prompt = f\"Return '1' if you can confirm that the location {name} has clean drinking water or bowls for dogs to drink based on the name {name}, description {descrip}, these reviews {review}, these editorials {editorial} and location type {type}. Answer only using '1' for yes or '0' for no.\"\n",
    "\n",
    "    # Call OpenAI API to generate description using the new method\n",
    "    completion = client.chat.completions.create(\n",
    "        model=\"gpt-4o-mini\",\n",
    "        messages=[\n",
    "            {\"role\": \"system\", \"content\": \"You are a helpful assistant that confirms location features.\"},\n",
    "            {\"role\": \"user\", \"content\": prompt}\n",
    "        ],\n",
    "        max_tokens=150\n",
    "    )\n",
    "    \n",
    "    # Extract and return the response content\n",
    "    return(completion.choices[0].message.content)\n",
    "\n",
    "# Apply the function to each row and create a new column 'description'\n",
    "woofya_db_r500['dog_water'] = woofya_db_r500.apply(generate_water, axis=1)\n",
    "\n",
    "# Save the DataFrame with descriptions to a new CSV file\n",
    "woofya_db_r500.to_csv('recommender_input.csv', index=False)\n"
   ]
  },
  {
   "cell_type": "code",
   "execution_count": 8,
   "id": "78666773",
   "metadata": {},
   "outputs": [
    {
     "name": "stderr",
     "output_type": "stream",
     "text": [
      "C:\\Users\\liamg\\AppData\\Local\\Temp\\ipykernel_2552\\2996688986.py:24: SettingWithCopyWarning: \n",
      "A value is trying to be set on a copy of a slice from a DataFrame.\n",
      "Try using .loc[row_indexer,col_indexer] = value instead\n",
      "\n",
      "See the caveats in the documentation: https://pandas.pydata.org/pandas-docs/stable/user_guide/indexing.html#returning-a-view-versus-a-copy\n",
      "  woofya_db_r500['fenced_off'] = woofya_db_r500.apply(generate_fence, axis=1)\n"
     ]
    }
   ],
   "source": [
    "# Function to generate an assessment of the availability of water for dogs\n",
    "def generate_fence(row):\n",
    "    name = row['name']\n",
    "    review = row['review_text']\n",
    "    descrip = row['description']\n",
    "    type = row['type']\n",
    "    editorial = row['editorial_summary.overview']\n",
    "    prompt = f\"Return '1' if you can confirm that the location {name} has a fenced off area for dogs based on the name {name}, description {descrip},  these reviews {review}, these editorials {editorial} and location type {type}. Answer only using '1' for yes or '0' for no.\"\n",
    "\n",
    "    # Call OpenAI API to generate description using the new method\n",
    "    completion = client.chat.completions.create(\n",
    "        model=\"gpt-4o-mini\",\n",
    "        messages=[\n",
    "            {\"role\": \"system\", \"content\": \"You are a helpful assistant that confirms location features.\"},\n",
    "            {\"role\": \"user\", \"content\": prompt}\n",
    "        ],\n",
    "        max_tokens=150\n",
    "    )\n",
    "    \n",
    "    # Extract and return the response content\n",
    "    return(completion.choices[0].message.content)\n",
    "\n",
    "# Apply the function to each row and create a new column 'description'\n",
    "woofya_db_r500['fenced_off'] = woofya_db_r500.apply(generate_fence, axis=1)\n",
    "\n",
    "# Save the DataFrame with descriptions to a new CSV file\n",
    "woofya_db_r500.to_csv('recommender_input.csv', index=False)"
   ]
  },
  {
   "cell_type": "code",
   "execution_count": 9,
   "id": "df8ce320",
   "metadata": {},
   "outputs": [
    {
     "name": "stderr",
     "output_type": "stream",
     "text": [
      "C:\\Users\\liamg\\AppData\\Local\\Temp\\ipykernel_2552\\1892776718.py:24: SettingWithCopyWarning: \n",
      "A value is trying to be set on a copy of a slice from a DataFrame.\n",
      "Try using .loc[row_indexer,col_indexer] = value instead\n",
      "\n",
      "See the caveats in the documentation: https://pandas.pydata.org/pandas-docs/stable/user_guide/indexing.html#returning-a-view-versus-a-copy\n",
      "  woofya_db_r500['seating'] = woofya_db_r500.apply(generate_seating, axis=1)\n"
     ]
    }
   ],
   "source": [
    "# Function to generate an assessment of the availability of available seating. Checks for seating, NOT seating for dogs/owners.\n",
    "def generate_seating(row):\n",
    "    name = row['name']\n",
    "    review = row['review_text']\n",
    "    type = row['type']\n",
    "    descrip = row['description']\n",
    "    editorial = row['editorial_summary.overview']\n",
    "    prompt = f\"Return '1' if you can confirm that the location {name} has seating based on the name {name}, description {descrip},  these reviews {review}, these editorials {editorial} and location type {type}. Answer only using '1' for yes or '0' for no.\"\n",
    "\n",
    "    # Call OpenAI API to generate description using the new method\n",
    "    completion = client.chat.completions.create(\n",
    "        model=\"gpt-4o-mini\",\n",
    "        messages=[\n",
    "            {\"role\": \"system\", \"content\": \"You are a helpful assistant that confirms location features.\"},\n",
    "            {\"role\": \"user\", \"content\": prompt}\n",
    "        ],\n",
    "        max_tokens=150\n",
    "    )\n",
    "    \n",
    "    # Extract and return the response content\n",
    "    return(completion.choices[0].message.content)\n",
    "\n",
    "# Apply the function to each row and create a new column 'description'\n",
    "woofya_db_r500['seating'] = woofya_db_r500.apply(generate_seating, axis=1)\n",
    "\n",
    "# Save the DataFrame with descriptions to a new CSV file\n",
    "woofya_db_r500.to_csv('recommender_input.csv', index=False)"
   ]
  },
  {
   "cell_type": "code",
   "execution_count": 10,
   "id": "0e8a2335",
   "metadata": {},
   "outputs": [
    {
     "name": "stderr",
     "output_type": "stream",
     "text": [
      "C:\\Users\\liamg\\AppData\\Local\\Temp\\ipykernel_2552\\402075679.py:24: SettingWithCopyWarning: \n",
      "A value is trying to be set on a copy of a slice from a DataFrame.\n",
      "Try using .loc[row_indexer,col_indexer] = value instead\n",
      "\n",
      "See the caveats in the documentation: https://pandas.pydata.org/pandas-docs/stable/user_guide/indexing.html#returning-a-view-versus-a-copy\n",
      "  woofya_db_r500['parking'] = woofya_db_r500.apply(generate_parking, axis=1)\n"
     ]
    }
   ],
   "source": [
    "# Function to generate an assessment of the availability of car parking\n",
    "def generate_parking(row):\n",
    "    name = row['name']\n",
    "    review = row['review_text']\n",
    "    type = row['type']\n",
    "    descrip = row['description']\n",
    "    editorial = row['editorial_summary.overview']\n",
    "    prompt = f\"Return '1' if you can confirm that the location {name} has car parking available based on the name {name}, description {descrip},  these reviews {review}, these editorials {editorial} and location type {type}. Answer only using '1' for yes or '0' for no.\"\n",
    "\n",
    "    # Call OpenAI API to generate description using the new method\n",
    "    completion = client.chat.completions.create(\n",
    "        model=\"gpt-4o-mini\",\n",
    "        messages=[\n",
    "            {\"role\": \"system\", \"content\": \"You are a helpful assistant that confirms location features.\"},\n",
    "            {\"role\": \"user\", \"content\": prompt}\n",
    "        ],\n",
    "        max_tokens=150\n",
    "    )\n",
    "    \n",
    "    # Extract and return the response content\n",
    "    return(completion.choices[0].message.content)\n",
    "\n",
    "# Apply the function to each row and create a new column 'description'\n",
    "woofya_db_r500['parking'] = woofya_db_r500.apply(generate_parking, axis=1)\n",
    "\n",
    "# Save the DataFrame with descriptions to a new CSV file\n",
    "woofya_db_r500.to_csv('recommender_input.csv', index=False)"
   ]
  },
  {
   "cell_type": "code",
   "execution_count": 11,
   "id": "2e0103c6",
   "metadata": {
    "scrolled": true
   },
   "outputs": [
    {
     "name": "stderr",
     "output_type": "stream",
     "text": [
      "C:\\Users\\liamg\\AppData\\Local\\Temp\\ipykernel_2552\\2186798400.py:24: SettingWithCopyWarning: \n",
      "A value is trying to be set on a copy of a slice from a DataFrame.\n",
      "Try using .loc[row_indexer,col_indexer] = value instead\n",
      "\n",
      "See the caveats in the documentation: https://pandas.pydata.org/pandas-docs/stable/user_guide/indexing.html#returning-a-view-versus-a-copy\n",
      "  woofya_db_r500['food'] = woofya_db_r500.apply(generate_food, axis=1)\n"
     ]
    }
   ],
   "source": [
    "# Function to generate an assessment of the availability of car parking\n",
    "def generate_food(row):\n",
    "    name = row['name']\n",
    "    review = row['review_text']\n",
    "    type = row['type']\n",
    "    descrip = row['description']\n",
    "    editorial = row['editorial_summary.overview']\n",
    "    prompt = f\"Return '1' if you can confirm that the location {name} has serves food on the name {name}, description {descrip},  these reviews {review}, these editorials {editorial} and location type {type}. Answer only using '1' for yes or '0' for no.\"\n",
    "\n",
    "    # Call OpenAI API to generate description using the new method\n",
    "    completion = client.chat.completions.create(\n",
    "        model=\"gpt-4o-mini\",\n",
    "        messages=[\n",
    "            {\"role\": \"system\", \"content\": \"You are a helpful assistant that confirms location features.\"},\n",
    "            {\"role\": \"user\", \"content\": prompt}\n",
    "        ],\n",
    "        max_tokens=150\n",
    "    )\n",
    "    \n",
    "    # Extract and return the response content\n",
    "    return(completion.choices[0].message.content)\n",
    "\n",
    "# Apply the function to each row and create a new column 'description'\n",
    "woofya_db_r500['food'] = woofya_db_r500.apply(generate_food, axis=1)\n",
    "\n",
    "# Save the DataFrame with descriptions to a new CSV file\n",
    "woofya_db_r500.to_csv('recommender_input.csv', index=False)"
   ]
  },
  {
   "cell_type": "code",
   "execution_count": 12,
   "id": "b477e9bd",
   "metadata": {},
   "outputs": [
    {
     "name": "stderr",
     "output_type": "stream",
     "text": [
      "C:\\Users\\liamg\\AppData\\Local\\Temp\\ipykernel_2552\\2802708026.py:24: SettingWithCopyWarning: \n",
      "A value is trying to be set on a copy of a slice from a DataFrame.\n",
      "Try using .loc[row_indexer,col_indexer] = value instead\n",
      "\n",
      "See the caveats in the documentation: https://pandas.pydata.org/pandas-docs/stable/user_guide/indexing.html#returning-a-view-versus-a-copy\n",
      "  woofya_db_r500['night_light'] = woofya_db_r500.apply(generate_night_light, axis=1)\n"
     ]
    }
   ],
   "source": [
    "# Function to generate an assessment of the availability of car parking\n",
    "def generate_night_light(row):\n",
    "    name = row['name']\n",
    "    review = row['review_text']\n",
    "    type = row['type']\n",
    "    descrip = row['description']\n",
    "    editorial = row['editorial_summary.overview']\n",
    "    prompt = f\"Return '1' if you can confirm that the location {name} has lighting at night time based on the name {name}, description {descrip},  these reviews {review}, these editorials {editorial} and location type {type}. Answer only using '1' for yes or '0' for no.\"\n",
    "\n",
    "    # Call OpenAI API to generate description using the new method\n",
    "    completion = client.chat.completions.create(\n",
    "        model=\"gpt-4o-mini\",\n",
    "        messages=[\n",
    "            {\"role\": \"system\", \"content\": \"You are a helpful assistant that confirms location features.\"},\n",
    "            {\"role\": \"user\", \"content\": prompt}\n",
    "        ],\n",
    "        max_tokens=150\n",
    "    )\n",
    "    \n",
    "    # Extract and return the response content\n",
    "    return(completion.choices[0].message.content)\n",
    "\n",
    "# Apply the function to each row and create a new column 'description'\n",
    "woofya_db_r500['night_light'] = woofya_db_r500.apply(generate_night_light, axis=1)\n",
    "\n",
    "# Save the DataFrame with descriptions to a new CSV file\n",
    "woofya_db_r500.to_csv('recommender_input.csv', index=False)"
   ]
  },
  {
   "cell_type": "code",
   "execution_count": 13,
   "id": "af1783ff",
   "metadata": {},
   "outputs": [
    {
     "name": "stderr",
     "output_type": "stream",
     "text": [
      "C:\\Users\\liamg\\AppData\\Local\\Temp\\ipykernel_2552\\1069501856.py:24: SettingWithCopyWarning: \n",
      "A value is trying to be set on a copy of a slice from a DataFrame.\n",
      "Try using .loc[row_indexer,col_indexer] = value instead\n",
      "\n",
      "See the caveats in the documentation: https://pandas.pydata.org/pandas-docs/stable/user_guide/indexing.html#returning-a-view-versus-a-copy\n",
      "  woofya_db_r500['shade'] = woofya_db_r500.apply(generate_shade, axis=1)\n"
     ]
    }
   ],
   "source": [
    "# Function to generate an assessment of the availability of car parking\n",
    "def generate_shade(row):\n",
    "    name = row['name']\n",
    "    review = row['review_text']\n",
    "    type = row['type']\n",
    "    descrip = row['description']\n",
    "    editorial = row['editorial_summary.overview']\n",
    "    prompt = f\"Return '1' if you can confirm that the location {name} has shade based on the name {name}, description {descrip},  these reviews {review}, these editorials {editorial} and location type {type}. Answer only using '1' for yes or '0' for no.\"\n",
    "\n",
    "    # Call OpenAI API to generate description using the new method\n",
    "    completion = client.chat.completions.create(\n",
    "        model=\"gpt-4o-mini\",\n",
    "        messages=[\n",
    "            {\"role\": \"system\", \"content\": \"You are a helpful assistant that confirms location features.\"},\n",
    "            {\"role\": \"user\", \"content\": prompt}\n",
    "        ],\n",
    "        max_tokens=150\n",
    "    )\n",
    "    \n",
    "    # Extract and return the response content\n",
    "    return(completion.choices[0].message.content)\n",
    "\n",
    "# Apply the function to each row and create a new column 'description'\n",
    "woofya_db_r500['shade'] = woofya_db_r500.apply(generate_shade, axis=1)\n",
    "\n",
    "# Save the DataFrame with descriptions to a new CSV file\n",
    "woofya_db_r500.to_csv('recommender_input.csv', index=False)"
   ]
  },
  {
   "cell_type": "code",
   "execution_count": 14,
   "id": "ca1f4851",
   "metadata": {},
   "outputs": [
    {
     "name": "stderr",
     "output_type": "stream",
     "text": [
      "C:\\Users\\liamg\\AppData\\Local\\Temp\\ipykernel_2552\\2806061891.py:24: SettingWithCopyWarning: \n",
      "A value is trying to be set on a copy of a slice from a DataFrame.\n",
      "Try using .loc[row_indexer,col_indexer] = value instead\n",
      "\n",
      "See the caveats in the documentation: https://pandas.pydata.org/pandas-docs/stable/user_guide/indexing.html#returning-a-view-versus-a-copy\n",
      "  woofya_db_r500['open_field'] = woofya_db_r500.apply(generate_open_field, axis=1)\n"
     ]
    }
   ],
   "source": [
    "# Function to generate an assessment of the availability of car parking\n",
    "def generate_open_field(row):\n",
    "    name = row['name']\n",
    "    review = row['review_text']\n",
    "    type = row['type']\n",
    "    descrip = row['description']\n",
    "    editorial = row['editorial_summary.overview']\n",
    "    prompt = f\"Return '1' if you can confirm that the location {name} features a large, open field based on the name {name}, description {descrip},  these reviews {review}, these editorials {editorial} and location type {type}. Answer only using '1' for yes or '0' for no.\"\n",
    "\n",
    "    # Call OpenAI API to generate description using the new method\n",
    "    completion = client.chat.completions.create(\n",
    "        model=\"gpt-4o-mini\",\n",
    "        messages=[\n",
    "            {\"role\": \"system\", \"content\": \"You are a helpful assistant that confirms location features.\"},\n",
    "            {\"role\": \"user\", \"content\": prompt}\n",
    "        ],\n",
    "        max_tokens=150\n",
    "    )\n",
    "    \n",
    "    # Extract and return the response content\n",
    "    return(completion.choices[0].message.content)\n",
    "\n",
    "# Apply the function to each row and create a new column 'description'\n",
    "woofya_db_r500['open_field'] = woofya_db_r500.apply(generate_open_field, axis=1)\n",
    "\n",
    "# Save the DataFrame with descriptions to a new CSV file\n",
    "woofya_db_r500.to_csv('recommender_input.csv', index=False)"
   ]
  },
  {
   "cell_type": "code",
   "execution_count": 15,
   "id": "045b1c2f",
   "metadata": {},
   "outputs": [
    {
     "name": "stderr",
     "output_type": "stream",
     "text": [
      "C:\\Users\\liamg\\AppData\\Local\\Temp\\ipykernel_2552\\200335649.py:24: SettingWithCopyWarning: \n",
      "A value is trying to be set on a copy of a slice from a DataFrame.\n",
      "Try using .loc[row_indexer,col_indexer] = value instead\n",
      "\n",
      "See the caveats in the documentation: https://pandas.pydata.org/pandas-docs/stable/user_guide/indexing.html#returning-a-view-versus-a-copy\n",
      "  woofya_db_r500['wildlife'] = woofya_db_r500.apply(generate_wildlife, axis=1)\n"
     ]
    }
   ],
   "source": [
    "# Function to generate an assessment of the availability of car parking\n",
    "def generate_wildlife(row):\n",
    "    name = row['name']\n",
    "    review = row['review_text']\n",
    "    type = row['type']\n",
    "    descrip = row['description']\n",
    "    editorial = row['editorial_summary.overview']\n",
    "    prompt = f\"Return '1' if you can confirm that the location {name} has local wildlife based on the name {name}, description {descrip},  these reviews {review}, these editorials {editorial} and location type {type}. Answer only using '1' for yes or '0' for no.\"\n",
    "\n",
    "    # Call OpenAI API to generate description using the new method\n",
    "    completion = client.chat.completions.create(\n",
    "        model=\"gpt-4o-mini\",\n",
    "        messages=[\n",
    "            {\"role\": \"system\", \"content\": \"You are a helpful assistant that confirms location features.\"},\n",
    "            {\"role\": \"user\", \"content\": prompt}\n",
    "        ],\n",
    "        max_tokens=150\n",
    "    )\n",
    "    \n",
    "    # Extract and return the response content\n",
    "    return(completion.choices[0].message.content)\n",
    "\n",
    "# Apply the function to each row and create a new column 'description'\n",
    "woofya_db_r500['wildlife'] = woofya_db_r500.apply(generate_wildlife, axis=1)\n",
    "\n",
    "# Save the DataFrame with descriptions to a new CSV file\n",
    "woofya_db_r500.to_csv('recommender_input.csv', index=False)"
   ]
  },
  {
   "cell_type": "code",
   "execution_count": 16,
   "id": "b2079414",
   "metadata": {},
   "outputs": [
    {
     "name": "stderr",
     "output_type": "stream",
     "text": [
      "C:\\Users\\liamg\\AppData\\Local\\Temp\\ipykernel_2552\\4219880618.py:24: SettingWithCopyWarning: \n",
      "A value is trying to be set on a copy of a slice from a DataFrame.\n",
      "Try using .loc[row_indexer,col_indexer] = value instead\n",
      "\n",
      "See the caveats in the documentation: https://pandas.pydata.org/pandas-docs/stable/user_guide/indexing.html#returning-a-view-versus-a-copy\n",
      "  woofya_db_r500['alcohol'] = woofya_db_r500.apply(generate_alcohol, axis=1)\n"
     ]
    }
   ],
   "source": [
    "# Function to generate an assessment of the availability of car parking\n",
    "def generate_alcohol(row):\n",
    "    name = row['name']\n",
    "    review = row['review_text']\n",
    "    type = row['type']\n",
    "    descrip = row['description']\n",
    "    editorial = row['editorial_summary.overview']\n",
    "    prompt = f\"Return '1' if you can confirm that the location {name} serves alcohol based on the name {name}, description {descrip},  these reviews {review}, these editorials {editorial} and location type {type}. Answer only using '1' for yes or '0' for no.\"\n",
    "\n",
    "    # Call OpenAI API to generate description using the new method\n",
    "    completion = client.chat.completions.create(\n",
    "        model=\"gpt-4o-mini\",\n",
    "        messages=[\n",
    "            {\"role\": \"system\", \"content\": \"You are a helpful assistant that confirms location features.\"},\n",
    "            {\"role\": \"user\", \"content\": prompt}\n",
    "        ],\n",
    "        max_tokens=150\n",
    "    )\n",
    "    \n",
    "    # Extract and return the response content\n",
    "    return(completion.choices[0].message.content)\n",
    "\n",
    "# Apply the function to each row and create a new column 'description'\n",
    "woofya_db_r500['alcohol'] = woofya_db_r500.apply(generate_alcohol, axis=1)\n",
    "\n",
    "# Save the DataFrame with descriptions to a new CSV file\n",
    "woofya_db_r500.to_csv('recommender_input.csv', index=False)"
   ]
  },
  {
   "cell_type": "code",
   "execution_count": null,
   "id": "f22eece5",
   "metadata": {},
   "outputs": [],
   "source": []
  }
 ],
 "metadata": {
  "kernelspec": {
   "display_name": "Python 3 (ipykernel)",
   "language": "python",
   "name": "python3"
  },
  "language_info": {
   "codemirror_mode": {
    "name": "ipython",
    "version": 3
   },
   "file_extension": ".py",
   "mimetype": "text/x-python",
   "name": "python",
   "nbconvert_exporter": "python",
   "pygments_lexer": "ipython3",
   "version": "3.9.18"
  }
 },
 "nbformat": 4,
 "nbformat_minor": 5
}
